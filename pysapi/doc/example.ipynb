{
 "cells": [
  {
   "cell_type": "code",
   "execution_count": 1,
   "metadata": {
    "collapsed": true
   },
   "outputs": [],
   "source": [
    "# I recommend installing Aanaconda3 (64 bit of course) as a \"local\" install\n",
    "# don't forget to: pip install pythonnet\n",
    "# this notebook is run by first opening anaconda prompt and executing: jupyter notebook\n",
    "# - Michael Folkerts (Michael.Folkerts@varian.com)"
   ]
  },
  {
   "cell_type": "code",
   "execution_count": 2,
   "metadata": {
    "collapsed": true
   },
   "outputs": [],
   "source": [
    "import sys\n",
    "sys.path.append(r'C:\\Users\\Varian\\source\\repos\\vmspy')  # path to vmspy repo\n",
    "import pysapi\n",
    "pysapi.SAFE_MODE = False # bypass C# to Numpy array verification\n",
    "from matplotlib import pyplot as plt\n",
    "import numpy as np\n",
    "from time import time\n",
    "#load app only once\n",
    "app = pysapi.CustomScriptExecutable.CreateApplication('python_demo')  # script name is used for logging"
   ]
  },
  {
   "cell_type": "code",
   "execution_count": 3,
   "metadata": {
    "collapsed": true
   },
   "outputs": [],
   "source": [
    "patient = app.OpenPatientById('001')"
   ]
  },
  {
   "cell_type": "code",
   "execution_count": 4,
   "metadata": {},
   "outputs": [
    {
     "name": "stdout",
     "output_type": "stream",
     "text": [
      "Fem Heads: [('rt fem head', 47.018342511735), ('lt fem head', 46.997995078555086)]\n",
      "Patients:\n",
      "      Id Last Name\n",
      "3   001  IMRT-001\n",
      "4   002  IMRT-002\n",
      "5   003  IMRT-003\n",
      "6   004  IMRT-004\n",
      "7   005  IMRT-005\n",
      "8   006  IMRT-006\n",
      "9   007  IMRT-007\n",
      "10  008  IMRT-008\n",
      "11  009  IMRT-009\n",
      "12  010  IMRT-010\n"
     ]
    }
   ],
   "source": [
    "# shortcut for patient.Courses.ElementAt(0).PlanSetups.FirstOrDefault(lambda x: x.Id == '1 IMRT Prost' )\n",
    "plan = patient.CoursesLot(0).PlanSetupsLot('1 IMRT Prost')\n",
    "\n",
    "# normal indexing works too\n",
    "structures = patient.StructureSetsLot()[0].StructuresLot()\n",
    "\n",
    "# lot.Select takes a function and returns a lot\n",
    "fem_heads = structures.Select(lambda s: 'fem' in s.Id)\n",
    "print(\"Fem Heads:\",[(f.Id,f.Volume) for f in fem_heads])\n",
    "\n",
    "# python.NET treats IEnumerables as an iterable anyway\n",
    "import pandas as pd\n",
    "print(\n",
    "    \"Patients:\\n\",\n",
    "    pd.DataFrame(\n",
    "        [(p.Id, p.LastName) for p in app.PatientSummaries],\n",
    "        columns = ['Id', 'Last Name']\n",
    "    )[3:13]\n",
    ")  \n",
    "\n",
    "body1 = patient.StructureSetsLot()[0].StructuresLot('body')\n",
    "body = structures['body']  # another shortcut for FirstOrDefault on Id field\n",
    "assert body == body1  # same object\n",
    "\n",
    "voxels = plan.StructureSet.Image.voxel_pts_nparray()  # a pysapi extension!"
   ]
  },
  {
   "cell_type": "code",
   "execution_count": 5,
   "metadata": {},
   "outputs": [
    {
     "name": "stdout",
     "output_type": "stream",
     "text": [
      "Creating structure masks took 72.84 s         \n",
      "Extracting dose took 29.55 s\n"
     ]
    }
   ],
   "source": [
    "# let's grab some structure masks using pysapi extension method\n",
    "# this is actually a little slow, but worth the wait... (better impemented in c++ and added to ESAPI)\n",
    "structures_of_interest = ['PTV 8100','bladder','rectum','body']\n",
    "masks = {}\n",
    "tic = time()\n",
    "for s in structures:\n",
    "    if s.Id in structures_of_interest:\n",
    "        print(\"Creating mask for {}...            \".format(s.Id),end='\\r')\n",
    "        masks[s.Id] = plan.StructureSet.Image.mask_nparray(s)  # pysapi extension!\n",
    "print(\"Creating structure masks took {:0.2f} s         \".format(time()-tic))\n",
    "\n",
    "tic = time()\n",
    "dose = plan.Dose.nparray_like(plan.StructureSet.Image)  # pysapi extension!\n",
    "print(\"Extracting dose took {:0.2f} s\".format(time()-tic))"
   ]
  },
  {
   "cell_type": "code",
   "execution_count": 6,
   "metadata": {},
   "outputs": [
    {
     "name": "stdout",
     "output_type": "stream",
     "text": [
      "Verifying PTV 8100 mask...\n",
      "mask error (%): 0.0\n",
      "Verifying bladder mask...\n",
      "mask error (%): 0.0\n",
      "Verifying rectum mask...\n",
      "mask error (%): 0.0\n",
      "Verifying body mask...\n",
      "mask error (%): 0.0\n"
     ]
    }
   ],
   "source": [
    "# run some verification based on Structure.IsPointInsideSegment(VVector) ...\n",
    "# this is very slow!\n",
    "for sId in structures_of_interest:\n",
    "    print(\"Verifying {} mask...\".format(sId))\n",
    "    pysapi.validate_structure_mask(structures[sId],masks[sId],voxels)"
   ]
  },
  {
   "cell_type": "code",
   "execution_count": 7,
   "metadata": {
    "scrolled": true
   },
   "outputs": [
    {
     "name": "stdout",
     "output_type": "stream",
     "text": [
      "(512, 512, 113)\n"
     ]
    },
    {
     "data": {
      "image/png": "[encoded data removed]",
      "text/plain": [
       "<matplotlib.figure.Figure at 0x1ef8509d358>"
      ]
     },
     "metadata": {},
     "output_type": "display_data"
    }
   ],
   "source": [
    "# plot a dose slice ...\n",
    "assert plan.DoseValuePresentation == pysapi.DoseValuePresentation.Relative, \"dose not in relative units\"\n",
    "slice_idx = 39\n",
    "slice_z_mm = voxels[0,0,slice_idx][2]  # a 3D array of 3D points of locations for each voxel\n",
    "print(dose.shape)\n",
    "plt.imshow(dose[:,:,slice_idx].T,interpolation=None,cmap='jet')  # indexed as [x,y,z], transpose needed for imshow\n",
    "plt.axis('off')\n",
    "plt.colorbar()\n",
    "plt.title(\"Rx Relative Dose (Z = {:.1f})\".format(slice_z_mm))\n",
    "plt.show()"
   ]
  },
  {
   "cell_type": "code",
   "execution_count": 8,
   "metadata": {
    "scrolled": true
   },
   "outputs": [
    {
     "data": {
      "image/png": "[encoded data removed]",
      "text/plain": [
       "<matplotlib.figure.Figure at 0x1ef8a3171d0>"
      ]
     },
     "metadata": {},
     "output_type": "display_data"
    }
   ],
   "source": [
    "# plot masked dose ...\n",
    "all_masks = np.zeros_like(masks['body'])\n",
    "for k,mask in masks.items():\n",
    "    if k == 'body':\n",
    "        continue\n",
    "    all_masks = np.logical_or(all_masks,mask)\n",
    "\n",
    "plt.imshow((dose*all_masks)[:,:,slice_idx].T,interpolation=None,cmap='jet')  # mask is indexed same as dose grid\n",
    "plt.axis('off')\n",
    "plt.colorbar()\n",
    "plt.title(\"\")\n",
    "plt.show()"
   ]
  },
  {
   "cell_type": "code",
   "execution_count": null,
   "metadata": {},
   "outputs": [],
   "source": [
    "# let's compute some DVH \"by hand\" and compare to Eclipse\n",
    "\n",
    "plt.figure(figsize=(10,7))\n",
    "for sId in ['PTV 8100','bladder','rectum','body']:\n",
    "    mask_idx = np.where(masks[sId])\n",
    "    tot_vox = np.ones_like(dose)[mask_idx].sum()\n",
    "    hist,bins = np.histogram(dose[mask_idx].flatten(),bins=1000,range=(0,dose.max()))\n",
    "\n",
    "    plt.plot(bins[:-1],100.-hist.cumsum()*100.0/tot_vox,label=sId)\n",
    "    dvh = plan.GetDVHCumulativeData(\n",
    "        structures[sId],\n",
    "        pysapi.DoseValuePresentation.Relative,\n",
    "        pysapi.VolumePresentation.Relative,\n",
    "        .01\n",
    "    )\n",
    "    pts = np.array([[p.DoseValue.Dose,p.Volume] for p in dvh.CurveData])\n",
    "    plt.plot(pts[:,0],pts[:,1],'k--',alpha=.33)\n",
    "\n",
    "plt.legend(loc=0)\n",
    "plt.title(\"Mask-Calculated DVH vs. Eclipse DVH (gray dashed lines)\")\n",
    "plt.show()"
   ]
  },
  {
   "cell_type": "code",
   "execution_count": 10,
   "metadata": {
    "collapsed": true
   },
   "outputs": [],
   "source": [
    "# to exit cleanly when done...\n",
    "app.ClosePatient()\n",
    "app.Dispose()"
   ]
  }
 ],
 "metadata": {
  "kernelspec": {
   "display_name": "Python 3",
   "language": "python",
   "name": "python3"
  },
  "language_info": {
   "codemirror_mode": {
    "name": "ipython",
    "version": 3
   },
   "file_extension": ".py",
   "mimetype": "text/x-python",
   "name": "python",
   "nbconvert_exporter": "python",
   "pygments_lexer": "ipython3",
   "version": "3.6.1"
  }
 },
 "nbformat": 4,
 "nbformat_minor": 2
}
