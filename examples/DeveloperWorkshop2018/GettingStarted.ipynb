{
 "cells": [
  {
   "cell_type": "markdown",
   "metadata": {},
   "source": [
    "# PyESAPI: Getting Started\n",
    "We assume `pip install git+https://github.com/VarianAPIs/PyESAPI` has already been executed in your conda3 environment."
   ]
  },
  {
   "cell_type": "markdown",
   "metadata": {},
   "source": [
    "## Import PyESAPI\n",
    "* Create one instance of the eclipse scripting application\n",
    "* Set the script name for logging purposes to \"python_demo\"\n",
    "* Regester the application disposal fumctopm at exit (avoids unexpected exit/crash of app instance)"
   ]
  },
  {
   "cell_type": "code",
   "execution_count": 3,
   "metadata": {},
   "outputs": [],
   "source": [
    "import pyesapi\n",
    "import atexit\n",
    "app = pyesapi.CustomScriptExecutable.CreateApplication('python_demo')\n",
    "atexit.register(app.Dispose);"
   ]
  },
  {
   "cell_type": "markdown",
   "metadata": {},
   "source": [
    "## Find a Patient\n",
    "* List patient Ids\n",
    "* Open a patient\n",
    "* Print patient info\n",
    "* Python 3.6 f-string sugar"
   ]
  },
  {
   "cell_type": "code",
   "execution_count": 4,
   "metadata": {},
   "outputs": [
    {
     "name": "stdout",
     "output_type": "stream",
     "text": [
      "ref brain\n",
      "connie breast pt\n",
      "191001\n",
      "TestUpperBody\n",
      "HeartDVHErrorV35Gycc\n"
     ]
    }
   ],
   "source": [
    "for pat_sum in app.PatientSummaries:\n",
    "    print(pat_sum.Id)"
   ]
  },
  {
   "cell_type": "code",
   "execution_count": 6,
   "metadata": {},
   "outputs": [],
   "source": [
    "patient = app.OpenPatientById('TestUpperBody')"
   ]
  },
  {
   "cell_type": "code",
   "execution_count": 7,
   "metadata": {},
   "outputs": [
    {
     "name": "stdout",
     "output_type": "stream",
     "text": [
      "Name: Blueberry, LastName: Pizza\n"
     ]
    }
   ],
   "source": [
    "print('Name: {patient.FirstName}, LastName: {patient.LastName}'.format(**locals()))"
   ]
  },
  {
   "cell_type": "code",
   "execution_count": 21,
   "metadata": {},
   "outputs": [
    {
     "name": "stdout",
     "output_type": "stream",
     "text": [
      "Name: Blueberry, LastName: Pizza\n"
     ]
    }
   ],
   "source": [
    "print(f'Name: {patient.FirstName}, LastName: {patient.LastName}')"
   ]
  },
  {
   "cell_type": "markdown",
   "metadata": {},
   "source": [
    "## A lot about Lots\n",
    "* Create an array with pythonnet collection iterator\n",
    "* Demo the PyESAPI Lot\n",
    "  * Indexing\n",
    "  * Constructor Shortcuts\n",
    "  * Constructor Select\n",
    "  * Lot.FirstOrDefault"
   ]
  },
  {
   "cell_type": "code",
   "execution_count": 9,
   "metadata": {},
   "outputs": [
    {
     "data": {
      "text/plain": [
       "['C1']"
      ]
     },
     "execution_count": 9,
     "metadata": {},
     "output_type": "execute_result"
    }
   ],
   "source": [
    "[c.Id for c in patient.Courses] # python list comprehension on pythonnet collection iterator"
   ]
  },
  {
   "cell_type": "code",
   "execution_count": 10,
   "metadata": {},
   "outputs": [
    {
     "data": {
      "text/plain": [
       "<pyesapi.Lot.Lot at 0x1b04c59cd68>"
      ]
     },
     "execution_count": 10,
     "metadata": {},
     "output_type": "execute_result"
    }
   ],
   "source": [
    "patient.CoursesLot() # \"Lot\" a custom PyESAPI collection wrapper class"
   ]
  },
  {
   "cell_type": "code",
   "execution_count": 11,
   "metadata": {},
   "outputs": [
    {
     "data": {
      "text/plain": [
       "'C1'"
      ]
     },
     "execution_count": 11,
     "metadata": {},
     "output_type": "execute_result"
    }
   ],
   "source": [
    "patient.CoursesLot()[0].Id # Indexable after construction"
   ]
  },
  {
   "cell_type": "code",
   "execution_count": 12,
   "metadata": {},
   "outputs": [
    {
     "data": {
      "text/plain": [
       "'C1'"
      ]
     },
     "execution_count": 12,
     "metadata": {},
     "output_type": "execute_result"
    }
   ],
   "source": [
    "patient.CoursesLot(0).Id # Indexable at construction"
   ]
  },
  {
   "cell_type": "code",
   "execution_count": 13,
   "metadata": {},
   "outputs": [
    {
     "data": {
      "text/plain": [
       "'C1'"
      ]
     },
     "execution_count": 13,
     "metadata": {},
     "output_type": "execute_result"
    }
   ],
   "source": [
    "patient.CoursesLot('C1').Id # passing string will match Id"
   ]
  },
  {
   "cell_type": "code",
   "execution_count": 14,
   "metadata": {},
   "outputs": [
    {
     "data": {
      "text/plain": [
       "'C1'"
      ]
     },
     "execution_count": 14,
     "metadata": {},
     "output_type": "execute_result"
    }
   ],
   "source": [
    "patient.CoursesLot(lambda c: c.Id == 'C1').Id # passing function acts like \"first or default\""
   ]
  },
  {
   "cell_type": "code",
   "execution_count": 16,
   "metadata": {},
   "outputs": [
    {
     "data": {
      "text/plain": [
       "'C1'"
      ]
     },
     "execution_count": 16,
     "metadata": {},
     "output_type": "execute_result"
    }
   ],
   "source": [
    "patient.CoursesLot().FirstOrDefault(lambda c: c.Id == 'C1').Id"
   ]
  },
  {
   "cell_type": "markdown",
   "metadata": {},
   "source": [
    "## Open a Plan\n",
    "* Print plan info\n",
    "* Print structure info\n",
    "* Print beam info"
   ]
  },
  {
   "cell_type": "code",
   "execution_count": 17,
   "metadata": {},
   "outputs": [],
   "source": [
    "plan = patient.CoursesLot('C1').PlanSetupsLot(0)"
   ]
  },
  {
   "cell_type": "code",
   "execution_count": 20,
   "metadata": {},
   "outputs": [
    {
     "name": "stdout",
     "output_type": "stream",
     "text": [
      "Plan Id: IMRT, Dose Per Fx: 2000.0 cGy, Number of Fx: 30\n"
     ]
    }
   ],
   "source": [
    "print(f'Plan Id: {plan.Id}')\n",
    "print(f'Dose Per Fx: {plan.PrescribedDosePerFraction}'\n",
    "print(f'Number of Fx: {plan.NumberOfFractions}')"
   ]
  },
  {
   "cell_type": "code",
   "execution_count": 15,
   "metadata": {},
   "outputs": [
    {
     "name": "stdout",
     "output_type": "stream",
     "text": [
      "TYPE,ID,VOLUME\n",
      "PTV,Heart,66.71\n",
      "EXTERNAL,BODY,9515.75\n",
      "AVOIDANCE,R Lung,939.14\n",
      "AVOIDANCE,L Lung,760.37\n",
      "ORGAN,Cord,39.26\n",
      "AVOIDANCE,Total Lung,1705.62\n",
      "PTV,Lg Tumor,825.51\n"
     ]
    }
   ],
   "source": [
    "print(f'TYPE,ID,VOLUME')\n",
    "for structure in plan.StructureSet.Structures:\n",
    "    print(f'{structure.DicomType},{structure.Id},{structure.Volume:.2f}')"
   ]
  },
  {
   "cell_type": "code",
   "execution_count": 16,
   "metadata": {},
   "outputs": [
    {
     "name": "stdout",
     "output_type": "stream",
     "text": [
      "ID,SSD,Mu,Angle\n",
      "Field 1,885.74,95.03,315.0\n",
      "Field 2,867.56,99.98,45.0\n",
      "Field 3,895.86,99.98,135.0\n",
      "Field 4,898.13,101.96,225.0\n"
     ]
    }
   ],
   "source": [
    "print(f'ID,SSD,Mu,Angle')\n",
    "for beam in plan.Beams:\n",
    "    print(f'{beam.Id},{beam.SSD:.2f},{beam.Meterset.Value:.2f},{beam.ControlPoints[0].GantryAngle}')"
   ]
  },
  {
   "cell_type": "code",
   "execution_count": 17,
   "metadata": {},
   "outputs": [],
   "source": [
    "ct_image = plan.StructureSet.Image.np_array_like() # an actual numpy array"
   ]
  },
  {
   "cell_type": "code",
   "execution_count": 18,
   "metadata": {},
   "outputs": [
    {
     "data": {
      "text/plain": [
       "numpy.ndarray"
      ]
     },
     "execution_count": 18,
     "metadata": {},
     "output_type": "execute_result"
    }
   ],
   "source": [
    "type(ct_image)"
   ]
  },
  {
   "cell_type": "code",
   "execution_count": 19,
   "metadata": {},
   "outputs": [
    {
     "data": {
      "text/plain": [
       "(512, 512, 237)"
      ]
     },
     "execution_count": 19,
     "metadata": {},
     "output_type": "execute_result"
    }
   ],
   "source": [
    "ct_image.shape # indexed like x, y, z"
   ]
  },
  {
   "cell_type": "code",
   "execution_count": null,
   "metadata": {},
   "outputs": [
    {
     "data": {
      "text/plain": [
       "<matplotlib.figure.Figure at 0x1dfdcf7b400>"
      ]
     },
     "metadata": {},
     "output_type": "display_data"
    }
   ],
   "source": [
    "import matplotlib.pyplot as plt\n",
    "plt.imshow(ct_image[:,:,110].T, cmap='gray')\n",
    "plt.show()"
   ]
  },
  {
   "cell_type": "code",
   "execution_count": null,
   "metadata": {},
   "outputs": [],
   "source": [
    "pyESAPI.SAFE_MODE = False\n",
    "dose = plan.Dose.np_array_like(plan.StructureSet.Image) # create dose at CT resolution"
   ]
  },
  {
   "cell_type": "code",
   "execution_count": null,
   "metadata": {},
   "outputs": [],
   "source": [
    "plt.imshow(dose[:,:,110].T,cmap='jet')\n",
    "plt.colorbar()\n",
    "plt.show()"
   ]
  },
  {
   "cell_type": "code",
   "execution_count": null,
   "metadata": {},
   "outputs": [],
   "source": [
    "structure = plan.StructureSet.StructuresLot('Heart').np_mask_like(plan.StructureSet.Image)"
   ]
  },
  {
   "cell_type": "code",
   "execution_count": null,
   "metadata": {
    "scrolled": true
   },
   "outputs": [],
   "source": [
    "import numpy as np\n",
    "dose_in_structure = dose*structure\n",
    "plt.imshow(dose_in_structure[:,:,110].T, cmap='jet')\n",
    "plt.colorbar()\n",
    "plt.show()"
   ]
  },
  {
   "cell_type": "code",
   "execution_count": null,
   "metadata": {},
   "outputs": [],
   "source": [
    "non_zero_dose_in_structure = np.ma.masked_where(dose_in_structure==0,dose_in_structure)\n",
    "plt.imshow(non_zero_dose_in_structure[:,:,110].T, cmap='jet')\n",
    "plt.show()"
   ]
  },
  {
   "cell_type": "code",
   "execution_count": null,
   "metadata": {},
   "outputs": [],
   "source": [
    "plt.figure(figsize=(8,8))\n",
    "plt.imshow(ct_image[100:400,175:400,110].T, cmap='gray')\n",
    "plt.imshow(non_zero_dose_in_structure[100:400,175:400,110].T, cmap='jet',alpha=.25)\n",
    "# plt.colorbar()\n",
    "plt.show()"
   ]
  },
  {
   "cell_type": "code",
   "execution_count": null,
   "metadata": {},
   "outputs": [],
   "source": [
    "# challenge: overlay all dose above 2 Gy"
   ]
  },
  {
   "cell_type": "code",
   "execution_count": null,
   "metadata": {},
   "outputs": [],
   "source": [
    "# add interactivity\n",
    "from ipywidgets import interactive, widgets\n",
    "\n",
    "def plot_function(slice_num):\n",
    "    plt.figure(figsize=(8,8))\n",
    "    plt.imshow(ct_image[100:400,175:400,slice_num].T, cmap='gray')\n",
    "    plt.plot()\n",
    "\n",
    "islide = widgets.IntSlider(\n",
    "    value=110,\n",
    "    min=0,\n",
    "    max=200,\n",
    "    step=1,\n",
    "    description='Slice Number',\n",
    "    continuous_update=True,\n",
    ")\n",
    "    \n",
    "interactive(plot_function, slice_num=islide)"
   ]
  },
  {
   "cell_type": "code",
   "execution_count": null,
   "metadata": {},
   "outputs": [],
   "source": []
  }
 ],
 "metadata": {
  "kernelspec": {
   "display_name": "Python 3",
   "language": "python",
   "name": "python3"
  },
  "language_info": {
   "codemirror_mode": {
    "name": "ipython",
    "version": 3
   },
   "file_extension": ".py",
   "mimetype": "text/x-python",
   "name": "python",
   "nbconvert_exporter": "python",
   "pygments_lexer": "ipython3",
   "version": "3.6.4"
  }
 },
 "nbformat": 4,
 "nbformat_minor": 2
}
