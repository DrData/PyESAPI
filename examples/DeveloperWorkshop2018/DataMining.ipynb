{
 "cells": [
  {
   "cell_type": "markdown",
   "metadata": {},
   "source": [
    "# PyESAPI: Data Mining\n",
    "*By Michael.Folkerts@varian.com*"
   ]
  },
  {
   "cell_type": "code",
   "execution_count": 25,
   "metadata": {},
   "outputs": [],
   "source": [
    "import pyesapi\n",
    "import atexit\n",
    "app = pyesapi.CustomScriptExecutable.CreateApplication('python_demo')\n",
    "atexit.register(app.Dispose);"
   ]
  },
  {
   "cell_type": "markdown",
   "metadata": {},
   "source": [
    "## Extracting Structure Data with Pandas\n",
    "* Open a patient\n",
    "* Use pandas dataframe to display basic structure info\n",
    "* Save to file\n",
    "* **Extra Credit:** Loop through patients and save to sqlite database, query all PTV volumes"
   ]
  },
  {
   "cell_type": "code",
   "execution_count": 26,
   "metadata": {},
   "outputs": [],
   "source": [
    "patient = app.OpenPatientById('TestUpperBody')"
   ]
  },
  {
   "cell_type": "code",
   "execution_count": 27,
   "metadata": {},
   "outputs": [
    {
     "name": "stdout",
     "output_type": "stream",
     "text": [
      "Structures:\n",
      "            Id        Name Dicom Type       Volume  Is High Res\n",
      "0       Heart       Heart        PTV    66.711074        False\n",
      "1        BODY        BODY   EXTERNAL  9515.747656        False\n",
      "2      R Lung      R Lung  AVOIDANCE   939.143211        False\n",
      "3      L Lung      L Lung  AVOIDANCE   760.367520        False\n",
      "4        Cord        Cord      ORGAN    39.258909        False\n",
      "5  Total Lung  Total Lung  AVOIDANCE  1705.624076        False\n",
      "6    Lg Tumor    Lg Tumor        PTV   825.509991        False\n"
     ]
    }
   ],
   "source": [
    "import pandas as pd\n",
    "\n",
    "structure_dataframe = pd.DataFrame(\n",
    "    [(s.Id, s.Name, s.DicomType, s.Volume, s.IsHighResolution) for s in patient.StructureSetsLot(0).Structures],\n",
    "    columns = ('Id', 'Name', 'Dicom Type', 'Volume', 'Is High Res')\n",
    ")\n",
    "\n",
    "print(\"Structures:\\n\", structure_dataframe)"
   ]
  },
  {
   "cell_type": "code",
   "execution_count": 28,
   "metadata": {},
   "outputs": [],
   "source": [
    "with open('./StructureData.csv','w') as f:\n",
    "    f.write(structure_dataframe.to_csv())"
   ]
  },
  {
   "cell_type": "markdown",
   "metadata": {},
   "source": [
    "## Saving DVH to HDF5 Using [H5Py](http://www.h5py.org)\n",
    "*HDF5 lets you store huge amounts of numerical data, and easily manipulate that data from NumPy.*\n",
    "\n",
    "Groups = Folders, Datasets = Files\n",
    "\n",
    "* Create HDF5 file\n",
    "* Create group for patient data in H5 file\n",
    "* Get DVH data for a structure and save as dataset\n",
    "* loop over patients DVH and save data to HDF5 file"
   ]
  },
  {
   "cell_type": "code",
   "execution_count": 66,
   "metadata": {},
   "outputs": [],
   "source": [
    "import h5py\n",
    "# we will reuse this code block to reset the file\n",
    "try:\n",
    "    h5file.close()\n",
    "except NameError:\n",
    "    pass\n",
    "finally:\n",
    "    h5file = h5py.File(\"DVH.h5\",'w')  # truncate if exists\n"
   ]
  },
  {
   "cell_type": "code",
   "execution_count": 67,
   "metadata": {},
   "outputs": [],
   "source": [
    "patient_group = h5file.create_group(f'patients/{patient.Id}')"
   ]
  },
  {
   "cell_type": "code",
   "execution_count": 68,
   "metadata": {},
   "outputs": [
    {
     "name": "stdout",
     "output_type": "stream",
     "text": [
      "patients\n"
     ]
    }
   ],
   "source": [
    "for label in h5file:\n",
    "    print(label)"
   ]
  },
  {
   "cell_type": "code",
   "execution_count": 69,
   "metadata": {},
   "outputs": [
    {
     "name": "stdout",
     "output_type": "stream",
     "text": [
      "TestUpperBody\n"
     ]
    }
   ],
   "source": [
    "# works like dictionary\n",
    "for label in h5file['patients']:\n",
    "    print(label)"
   ]
  },
  {
   "cell_type": "code",
   "execution_count": 70,
   "metadata": {},
   "outputs": [],
   "source": [
    "def ls(location,depth=0):\n",
    "    for key,value in location.items():\n",
    "        print(' ' * depth + ('\\u21b3 ' if depth else '') + key)  # unicode for '↳'\n",
    "        ls(value,depth+1)"
   ]
  },
  {
   "cell_type": "code",
   "execution_count": 71,
   "metadata": {},
   "outputs": [
    {
     "name": "stdout",
     "output_type": "stream",
     "text": [
      "patients\n",
      " ↳ TestUpperBody\n"
     ]
    }
   ],
   "source": [
    "ls(h5file)"
   ]
  },
  {
   "cell_type": "code",
   "execution_count": 72,
   "metadata": {},
   "outputs": [],
   "source": [
    "dvh_group = patient_group.create_group('structures/{}')"
   ]
  },
  {
   "cell_type": "code",
   "execution_count": 73,
   "metadata": {},
   "outputs": [
    {
     "name": "stdout",
     "output_type": "stream",
     "text": [
      "patients\n",
      " ↳ TestUpperBody\n",
      "  ↳ structures\n",
      "   ↳ {}\n"
     ]
    }
   ],
   "source": [
    "ls(h5file)"
   ]
  },
  {
   "cell_type": "code",
   "execution_count": null,
   "metadata": {},
   "outputs": [],
   "source": [
    "dvh = plan.GetDVHCumulativeData(\n",
    "    structure,\n",
    "    pyesapi.DoseValuePresentation.Relative,\n",
    "    pyesapi.VolumePresentation.Relative,\n",
    "    .01\n",
    ")\n",
    "dose_x = [p.DoseValue.Dose for p in dvh.CurveData]\n",
    "volume_y = [p.Volume for p in dvh.CurveData]"
   ]
  }
 ],
 "metadata": {
  "kernelspec": {
   "display_name": "Python 3",
   "language": "python",
   "name": "python3"
  },
  "language_info": {
   "codemirror_mode": {
    "name": "ipython",
    "version": 3
   },
   "file_extension": ".py",
   "mimetype": "text/x-python",
   "name": "python",
   "nbconvert_exporter": "python",
   "pygments_lexer": "ipython3",
   "version": "3.6.4"
  }
 },
 "nbformat": 4,
 "nbformat_minor": 2
}
