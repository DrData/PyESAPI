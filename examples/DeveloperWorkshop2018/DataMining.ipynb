{
 "cells": [
  {
   "cell_type": "markdown",
   "metadata": {},
   "source": [
    "# PyESAPI: Data Mining\n",
    "*By Michael.Folkerts@varian.com*"
   ]
  },
  {
   "cell_type": "code",
   "execution_count": 1,
   "metadata": {},
   "outputs": [],
   "source": [
    "import pyesapi\n",
    "import atexit\n",
    "app = pyesapi.CustomScriptExecutable.CreateApplication('python_demo')\n",
    "atexit.register(app.Dispose);"
   ]
  },
  {
   "cell_type": "markdown",
   "metadata": {},
   "source": [
    "## Extracting Structure Data with Pandas\n",
    "* Open a patient\n",
    "* Use pandas dataframe to display basic structure info\n",
    "* Save to file\n",
    "* **Extra Credit:** Loop through patients and save to sqlite database, query all PTV volumes"
   ]
  },
  {
   "cell_type": "code",
   "execution_count": 2,
   "metadata": {},
   "outputs": [],
   "source": [
    "patient = app.OpenPatientById('TestUpperBody')"
   ]
  },
  {
   "cell_type": "code",
   "execution_count": 17,
   "metadata": {},
   "outputs": [
    {
     "name": "stdout",
     "output_type": "stream",
     "text": [
      "Structures:\n",
      "            Id        Name Dicom Type       Volume  Is High Res\n",
      "0       Heart       Heart        PTV    66.711074        False\n",
      "1        BODY        BODY   EXTERNAL  9515.747656        False\n",
      "2      R Lung      R Lung  AVOIDANCE   939.143211        False\n",
      "3      L Lung      L Lung  AVOIDANCE   760.367520        False\n",
      "4        Cord        Cord      ORGAN    39.258909        False\n",
      "5  Total Lung  Total Lung  AVOIDANCE  1705.624076        False\n",
      "6    Lg Tumor    Lg Tumor        PTV   825.509991        False\n"
     ]
    }
   ],
   "source": [
    "import pandas as pd\n",
    "\n",
    "structure_dataframe = pd.DataFrame(\n",
    "    [(s.Id, s.Name, s.DicomType, s.Volume, s.IsHighResolution) for s in patient.StructureSetsLot(0).Structures],\n",
    "    columns = ('Id', 'Name', 'Dicom Type', 'Volume', 'Is High Res')\n",
    ")\n",
    "\n",
    "print(\"Structures:\\n\", structure_dataframe)"
   ]
  },
  {
   "cell_type": "code",
   "execution_count": 23,
   "metadata": {},
   "outputs": [],
   "source": [
    "with open('./StructureData.csv','w') as f:\n",
    "    f.write(structure_dataframe.to_csv())"
   ]
  },
  {
   "cell_type": "markdown",
   "metadata": {},
   "source": [
    "## Saving DVH to HDF5\n",
    "* Create HDF5 file\n",
    "* Create group in H5 file\n",
    "* Get DVH data for a structure\n",
    "* loop over patients DVH and save data to HDF5 file"
   ]
  },
  {
   "cell_type": "code",
   "execution_count": 24,
   "metadata": {},
   "outputs": [
    {
     "name": "stderr",
     "output_type": "stream",
     "text": [
      "C:\\Users\\Varian\\Anaconda3\\lib\\site-packages\\h5py\\__init__.py:36: FutureWarning: Conversion of the second argument of issubdtype from `float` to `np.floating` is deprecated. In future, it will be treated as `np.float64 == np.dtype(float).type`.\n",
      "  from ._conv import register_converters as _register_converters\n"
     ]
    }
   ],
   "source": [
    "import h5py"
   ]
  },
  {
   "cell_type": "code",
   "execution_count": 25,
   "metadata": {},
   "outputs": [],
   "source": [
    "h5file = h5py.File(\"DVH.h5\")"
   ]
  },
  {
   "cell_type": "code",
   "execution_count": 26,
   "metadata": {},
   "outputs": [],
   "source": [
    "patient_group = h5file.create_group(f'{patient.Id}')"
   ]
  },
  {
   "cell_type": "code",
   "execution_count": null,
   "metadata": {},
   "outputs": [],
   "source": []
  }
 ],
 "metadata": {
  "kernelspec": {
   "display_name": "Python 3",
   "language": "python",
   "name": "python3"
  },
  "language_info": {
   "codemirror_mode": {
    "name": "ipython",
    "version": 3
   },
   "file_extension": ".py",
   "mimetype": "text/x-python",
   "name": "python",
   "nbconvert_exporter": "python",
   "pygments_lexer": "ipython3",
   "version": "3.6.4"
  }
 },
 "nbformat": 4,
 "nbformat_minor": 2
}
